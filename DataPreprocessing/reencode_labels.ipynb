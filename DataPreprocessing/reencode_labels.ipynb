{
 "cells": [
  {
   "cell_type": "markdown",
   "id": "59393825",
   "metadata": {},
   "source": [
    "# Re-encode the conditions"
   ]
  },
  {
   "cell_type": "markdown",
   "id": "62562539",
   "metadata": {},
   "source": [
    "_Summary_:\n",
    "\n",
    "Add one column for each relevant condition to the data frame.\n",
    "\n",
    "Depending on whether we choose to label the data with {0,1} or {0,1,2}, the value in each condition column will be 0 or 1 or 0, 1, or 2\n",
    "\n",
    "For each entry, a maximum of one of the condition columns will have a non-zero value"
   ]
  },
  {
   "cell_type": "markdown",
   "id": "fbc43e22",
   "metadata": {},
   "source": [
    "## Read data"
   ]
  },
  {
   "cell_type": "code",
   "execution_count": 30,
   "id": "e2303eaf",
   "metadata": {
    "scrolled": true
   },
   "outputs": [
    {
     "name": "stderr",
     "output_type": "stream",
     "text": [
      "C:\\Users\\15819\\anaconda3\\envs\\project\\lib\\site-packages\\IPython\\core\\interactiveshell.py:3166: DtypeWarning: Columns (6) have mixed types.Specify dtype option on import or set low_memory=False.\n",
      "  interactivity=interactivity, compiler=compiler, result=result)\n"
     ]
    }
   ],
   "source": [
    "import pandas as pd\n",
    "df_dated = pd.read_csv(\"autoimmune_data_dated.csv\")"
   ]
  },
  {
   "cell_type": "code",
   "execution_count": 31,
   "id": "da65a7bb",
   "metadata": {},
   "outputs": [
    {
     "data": {
      "text/html": [
       "<div>\n",
       "<style scoped>\n",
       "    .dataframe tbody tr th:only-of-type {\n",
       "        vertical-align: middle;\n",
       "    }\n",
       "\n",
       "    .dataframe tbody tr th {\n",
       "        vertical-align: top;\n",
       "    }\n",
       "\n",
       "    .dataframe thead th {\n",
       "        text-align: right;\n",
       "    }\n",
       "</style>\n",
       "<table border=\"1\" class=\"dataframe\">\n",
       "  <thead>\n",
       "    <tr style=\"text-align: right;\">\n",
       "      <th></th>\n",
       "      <th>Unnamed: 0</th>\n",
       "      <th>user_id</th>\n",
       "      <th>age</th>\n",
       "      <th>sex</th>\n",
       "      <th>country</th>\n",
       "      <th>checkin_date</th>\n",
       "      <th>trackable_id</th>\n",
       "      <th>trackable_type</th>\n",
       "      <th>trackable_name</th>\n",
       "      <th>trackable_value</th>\n",
       "    </tr>\n",
       "  </thead>\n",
       "  <tbody>\n",
       "    <tr>\n",
       "      <th>0</th>\n",
       "      <td>0</td>\n",
       "      <td>1</td>\n",
       "      <td>30.0</td>\n",
       "      <td>female</td>\n",
       "      <td>BE</td>\n",
       "      <td>1</td>\n",
       "      <td>1288</td>\n",
       "      <td>Condition</td>\n",
       "      <td>Leaky Gut</td>\n",
       "      <td>1</td>\n",
       "    </tr>\n",
       "    <tr>\n",
       "      <th>1</th>\n",
       "      <td>1</td>\n",
       "      <td>1</td>\n",
       "      <td>30.0</td>\n",
       "      <td>female</td>\n",
       "      <td>BE</td>\n",
       "      <td>1</td>\n",
       "      <td>649</td>\n",
       "      <td>Condition</td>\n",
       "      <td>Migraine</td>\n",
       "      <td>0</td>\n",
       "    </tr>\n",
       "    <tr>\n",
       "      <th>2</th>\n",
       "      <td>2</td>\n",
       "      <td>1</td>\n",
       "      <td>30.0</td>\n",
       "      <td>female</td>\n",
       "      <td>BE</td>\n",
       "      <td>1</td>\n",
       "      <td>1022</td>\n",
       "      <td>Condition</td>\n",
       "      <td>Thoracic outlet syndrome</td>\n",
       "      <td>2</td>\n",
       "    </tr>\n",
       "    <tr>\n",
       "      <th>3</th>\n",
       "      <td>3</td>\n",
       "      <td>1</td>\n",
       "      <td>30.0</td>\n",
       "      <td>female</td>\n",
       "      <td>BE</td>\n",
       "      <td>1</td>\n",
       "      <td>886</td>\n",
       "      <td>Condition</td>\n",
       "      <td>Rheumatoid Arthritis</td>\n",
       "      <td>2</td>\n",
       "    </tr>\n",
       "    <tr>\n",
       "      <th>4</th>\n",
       "      <td>4</td>\n",
       "      <td>1</td>\n",
       "      <td>30.0</td>\n",
       "      <td>female</td>\n",
       "      <td>BE</td>\n",
       "      <td>1</td>\n",
       "      <td>397</td>\n",
       "      <td>Condition</td>\n",
       "      <td>Fibromyalgia</td>\n",
       "      <td>3</td>\n",
       "    </tr>\n",
       "    <tr>\n",
       "      <th>...</th>\n",
       "      <td>...</td>\n",
       "      <td>...</td>\n",
       "      <td>...</td>\n",
       "      <td>...</td>\n",
       "      <td>...</td>\n",
       "      <td>...</td>\n",
       "      <td>...</td>\n",
       "      <td>...</td>\n",
       "      <td>...</td>\n",
       "      <td>...</td>\n",
       "    </tr>\n",
       "    <tr>\n",
       "      <th>3553751</th>\n",
       "      <td>3553751</td>\n",
       "      <td>11478</td>\n",
       "      <td>48.0</td>\n",
       "      <td>male</td>\n",
       "      <td>US</td>\n",
       "      <td>12</td>\n",
       "      <td>175150</td>\n",
       "      <td>Weather</td>\n",
       "      <td>temperature_min</td>\n",
       "      <td>42.0</td>\n",
       "    </tr>\n",
       "    <tr>\n",
       "      <th>3553752</th>\n",
       "      <td>3553752</td>\n",
       "      <td>11478</td>\n",
       "      <td>48.0</td>\n",
       "      <td>male</td>\n",
       "      <td>US</td>\n",
       "      <td>12</td>\n",
       "      <td>175150</td>\n",
       "      <td>Weather</td>\n",
       "      <td>temperature_max</td>\n",
       "      <td>78.0</td>\n",
       "    </tr>\n",
       "    <tr>\n",
       "      <th>3553753</th>\n",
       "      <td>3553753</td>\n",
       "      <td>11478</td>\n",
       "      <td>48.0</td>\n",
       "      <td>male</td>\n",
       "      <td>US</td>\n",
       "      <td>12</td>\n",
       "      <td>175150</td>\n",
       "      <td>Weather</td>\n",
       "      <td>precip_intensity</td>\n",
       "      <td>0.0001</td>\n",
       "    </tr>\n",
       "    <tr>\n",
       "      <th>3553754</th>\n",
       "      <td>3553754</td>\n",
       "      <td>11478</td>\n",
       "      <td>48.0</td>\n",
       "      <td>male</td>\n",
       "      <td>US</td>\n",
       "      <td>12</td>\n",
       "      <td>175150</td>\n",
       "      <td>Weather</td>\n",
       "      <td>pressure</td>\n",
       "      <td>1015.0</td>\n",
       "    </tr>\n",
       "    <tr>\n",
       "      <th>3553755</th>\n",
       "      <td>3553755</td>\n",
       "      <td>11478</td>\n",
       "      <td>48.0</td>\n",
       "      <td>male</td>\n",
       "      <td>US</td>\n",
       "      <td>12</td>\n",
       "      <td>175150</td>\n",
       "      <td>Weather</td>\n",
       "      <td>humidity</td>\n",
       "      <td>41.0</td>\n",
       "    </tr>\n",
       "  </tbody>\n",
       "</table>\n",
       "<p>3553756 rows × 10 columns</p>\n",
       "</div>"
      ],
      "text/plain": [
       "         Unnamed: 0  user_id   age     sex country  checkin_date trackable_id  \\\n",
       "0                 0        1  30.0  female      BE             1         1288   \n",
       "1                 1        1  30.0  female      BE             1          649   \n",
       "2                 2        1  30.0  female      BE             1         1022   \n",
       "3                 3        1  30.0  female      BE             1          886   \n",
       "4                 4        1  30.0  female      BE             1          397   \n",
       "...             ...      ...   ...     ...     ...           ...          ...   \n",
       "3553751     3553751    11478  48.0    male      US            12       175150   \n",
       "3553752     3553752    11478  48.0    male      US            12       175150   \n",
       "3553753     3553753    11478  48.0    male      US            12       175150   \n",
       "3553754     3553754    11478  48.0    male      US            12       175150   \n",
       "3553755     3553755    11478  48.0    male      US            12       175150   \n",
       "\n",
       "        trackable_type            trackable_name trackable_value  \n",
       "0            Condition                 Leaky Gut               1  \n",
       "1            Condition                  Migraine               0  \n",
       "2            Condition  Thoracic outlet syndrome               2  \n",
       "3            Condition      Rheumatoid Arthritis               2  \n",
       "4            Condition              Fibromyalgia               3  \n",
       "...                ...                       ...             ...  \n",
       "3553751        Weather           temperature_min            42.0  \n",
       "3553752        Weather           temperature_max            78.0  \n",
       "3553753        Weather          precip_intensity          0.0001  \n",
       "3553754        Weather                  pressure          1015.0  \n",
       "3553755        Weather                  humidity            41.0  \n",
       "\n",
       "[3553756 rows x 10 columns]"
      ]
     },
     "execution_count": 31,
     "metadata": {},
     "output_type": "execute_result"
    }
   ],
   "source": [
    "df_dated"
   ]
  },
  {
   "cell_type": "markdown",
   "id": "361f8337",
   "metadata": {},
   "source": [
    "## Re-encode labels"
   ]
  },
  {
   "cell_type": "code",
   "execution_count": 32,
   "id": "a6ff8e77",
   "metadata": {},
   "outputs": [],
   "source": [
    "# Copy the dataframe\n",
    "modify_df = df_dated.copy(deep=True)"
   ]
  },
  {
   "cell_type": "code",
   "execution_count": 37,
   "id": "224ce338",
   "metadata": {},
   "outputs": [],
   "source": [
    "# For every entry that tracks a condition, change the trackable_value to '0' or '1'\n",
    "VALUE_TRANSLATION = {'0':'0', '1':'0', '2':'1', '3':'1', '4':'1'}\n",
    "\n",
    "for i, row in modify_df.iterrows():\n",
    "    if 'Condition' == modify_df.at[i, 'trackable_type']:\n",
    "        cur_val = modify_df.at[i, 'trackable_value'] # current value as is in the dataset\n",
    "        # Change the trackable_value to '0' or '1'\n",
    "        new_val = VALUE_TRANSLATION[cur_val]\n",
    "        modify_df.at[i, 'trackable_value'] = new_val"
   ]
  },
  {
   "cell_type": "code",
   "execution_count": 41,
   "id": "fdec151b",
   "metadata": {},
   "outputs": [],
   "source": [
    "# Insert a new column for each relevant condition (set dfault value = 0)\n",
    "our_cond_list = [\"Scleroderma\",\"IBS\",\"IBD\",\"Chron's\", \"Lupus\", \"Rheumatoid Arthritis\", \"Fibromyalgia\",\n",
    "                 \"Dysautonomia\", \"Arthritis\", \"Psoriasis\", \"Raynaud's Phenomenon\"]\n",
    "                # Update this list to match the dict in Aleksandra's code\n",
    "\n",
    "for cond in our_cond_list:\n",
    "    modify_df[cond] = 0"
   ]
  },
  {
   "cell_type": "code",
   "execution_count": 47,
   "id": "0a746a0a",
   "metadata": {
    "scrolled": true
   },
   "outputs": [
    {
     "ename": "KeyError",
     "evalue": "(0, 'trackable_value')",
     "output_type": "error",
     "traceback": [
      "\u001b[1;31m---------------------------------------------------------------------------\u001b[0m",
      "\u001b[1;31mKeyError\u001b[0m                                  Traceback (most recent call last)",
      "\u001b[1;32m~\\anaconda3\\envs\\project\\lib\\site-packages\\pandas\\core\\indexes\\base.py\u001b[0m in \u001b[0;36mget_loc\u001b[1;34m(self, key, method, tolerance)\u001b[0m\n\u001b[0;32m   3079\u001b[0m             \u001b[1;32mtry\u001b[0m\u001b[1;33m:\u001b[0m\u001b[1;33m\u001b[0m\u001b[1;33m\u001b[0m\u001b[0m\n\u001b[1;32m-> 3080\u001b[1;33m                 \u001b[1;32mreturn\u001b[0m \u001b[0mself\u001b[0m\u001b[1;33m.\u001b[0m\u001b[0m_engine\u001b[0m\u001b[1;33m.\u001b[0m\u001b[0mget_loc\u001b[0m\u001b[1;33m(\u001b[0m\u001b[0mcasted_key\u001b[0m\u001b[1;33m)\u001b[0m\u001b[1;33m\u001b[0m\u001b[1;33m\u001b[0m\u001b[0m\n\u001b[0m\u001b[0;32m   3081\u001b[0m             \u001b[1;32mexcept\u001b[0m \u001b[0mKeyError\u001b[0m \u001b[1;32mas\u001b[0m \u001b[0merr\u001b[0m\u001b[1;33m:\u001b[0m\u001b[1;33m\u001b[0m\u001b[1;33m\u001b[0m\u001b[0m\n",
      "\u001b[1;32mpandas\\_libs\\index.pyx\u001b[0m in \u001b[0;36mpandas._libs.index.IndexEngine.get_loc\u001b[1;34m()\u001b[0m\n",
      "\u001b[1;32mpandas\\_libs\\index.pyx\u001b[0m in \u001b[0;36mpandas._libs.index.IndexEngine.get_loc\u001b[1;34m()\u001b[0m\n",
      "\u001b[1;32mpandas\\_libs\\hashtable_class_helper.pxi\u001b[0m in \u001b[0;36mpandas._libs.hashtable.PyObjectHashTable.get_item\u001b[1;34m()\u001b[0m\n",
      "\u001b[1;32mpandas\\_libs\\hashtable_class_helper.pxi\u001b[0m in \u001b[0;36mpandas._libs.hashtable.PyObjectHashTable.get_item\u001b[1;34m()\u001b[0m\n",
      "\u001b[1;31mKeyError\u001b[0m: (0, 'trackable_value')",
      "\nThe above exception was the direct cause of the following exception:\n",
      "\u001b[1;31mKeyError\u001b[0m                                  Traceback (most recent call last)",
      "\u001b[1;32m<ipython-input-47-76df6ff69ec4>\u001b[0m in \u001b[0;36m<module>\u001b[1;34m\u001b[0m\n\u001b[0;32m      3\u001b[0m \u001b[1;33m\u001b[0m\u001b[0m\n\u001b[0;32m      4\u001b[0m \u001b[1;32mfor\u001b[0m \u001b[0mi\u001b[0m\u001b[1;33m,\u001b[0m \u001b[0mrow\u001b[0m \u001b[1;32min\u001b[0m \u001b[0mmodify_df\u001b[0m\u001b[1;33m.\u001b[0m\u001b[0miterrows\u001b[0m\u001b[1;33m(\u001b[0m\u001b[1;33m)\u001b[0m\u001b[1;33m:\u001b[0m\u001b[1;33m\u001b[0m\u001b[1;33m\u001b[0m\u001b[0m\n\u001b[1;32m----> 5\u001b[1;33m     \u001b[1;32mif\u001b[0m \u001b[0mmodify_df\u001b[0m\u001b[1;33m[\u001b[0m\u001b[0mi\u001b[0m\u001b[1;33m,\u001b[0m \u001b[1;34m'trackable_value'\u001b[0m\u001b[1;33m]\u001b[0m \u001b[1;33m==\u001b[0m \u001b[1;34m'1'\u001b[0m \u001b[1;32mand\u001b[0m \u001b[0mmodify_df\u001b[0m\u001b[1;33m[\u001b[0m\u001b[0mi\u001b[0m\u001b[1;33m,\u001b[0m \u001b[1;34m'trackable_type'\u001b[0m\u001b[1;33m]\u001b[0m \u001b[1;33m==\u001b[0m \u001b[1;34m'Condition'\u001b[0m \u001b[1;32mand\u001b[0m \u001b[0mmodify_df\u001b[0m\u001b[1;33m[\u001b[0m\u001b[0mi\u001b[0m\u001b[1;33m,\u001b[0m \u001b[1;34m'trackable_name'\u001b[0m\u001b[1;33m]\u001b[0m \u001b[1;32min\u001b[0m \u001b[0mour_cond_list\u001b[0m\u001b[1;33m:\u001b[0m\u001b[1;33m\u001b[0m\u001b[1;33m\u001b[0m\u001b[0m\n\u001b[0m\u001b[0;32m      6\u001b[0m         \u001b[0mcond\u001b[0m \u001b[1;33m=\u001b[0m \u001b[0mmodify_df\u001b[0m\u001b[1;33m[\u001b[0m\u001b[0mi\u001b[0m\u001b[1;33m,\u001b[0m \u001b[1;34m'trackable_name'\u001b[0m\u001b[1;33m]\u001b[0m\u001b[1;33m\u001b[0m\u001b[1;33m\u001b[0m\u001b[0m\n\u001b[0;32m      7\u001b[0m         \u001b[0mmodify_df\u001b[0m\u001b[1;33m.\u001b[0m\u001b[0mset_value\u001b[0m\u001b[1;33m(\u001b[0m\u001b[0mi\u001b[0m\u001b[1;33m,\u001b[0m \u001b[0mcond\u001b[0m\u001b[1;33m,\u001b[0m \u001b[1;34m'1'\u001b[0m\u001b[1;33m)\u001b[0m\u001b[1;33m\u001b[0m\u001b[1;33m\u001b[0m\u001b[0m\n",
      "\u001b[1;32m~\\anaconda3\\envs\\project\\lib\\site-packages\\pandas\\core\\frame.py\u001b[0m in \u001b[0;36m__getitem__\u001b[1;34m(self, key)\u001b[0m\n\u001b[0;32m   3022\u001b[0m             \u001b[1;32mif\u001b[0m \u001b[0mself\u001b[0m\u001b[1;33m.\u001b[0m\u001b[0mcolumns\u001b[0m\u001b[1;33m.\u001b[0m\u001b[0mnlevels\u001b[0m \u001b[1;33m>\u001b[0m \u001b[1;36m1\u001b[0m\u001b[1;33m:\u001b[0m\u001b[1;33m\u001b[0m\u001b[1;33m\u001b[0m\u001b[0m\n\u001b[0;32m   3023\u001b[0m                 \u001b[1;32mreturn\u001b[0m \u001b[0mself\u001b[0m\u001b[1;33m.\u001b[0m\u001b[0m_getitem_multilevel\u001b[0m\u001b[1;33m(\u001b[0m\u001b[0mkey\u001b[0m\u001b[1;33m)\u001b[0m\u001b[1;33m\u001b[0m\u001b[1;33m\u001b[0m\u001b[0m\n\u001b[1;32m-> 3024\u001b[1;33m             \u001b[0mindexer\u001b[0m \u001b[1;33m=\u001b[0m \u001b[0mself\u001b[0m\u001b[1;33m.\u001b[0m\u001b[0mcolumns\u001b[0m\u001b[1;33m.\u001b[0m\u001b[0mget_loc\u001b[0m\u001b[1;33m(\u001b[0m\u001b[0mkey\u001b[0m\u001b[1;33m)\u001b[0m\u001b[1;33m\u001b[0m\u001b[1;33m\u001b[0m\u001b[0m\n\u001b[0m\u001b[0;32m   3025\u001b[0m             \u001b[1;32mif\u001b[0m \u001b[0mis_integer\u001b[0m\u001b[1;33m(\u001b[0m\u001b[0mindexer\u001b[0m\u001b[1;33m)\u001b[0m\u001b[1;33m:\u001b[0m\u001b[1;33m\u001b[0m\u001b[1;33m\u001b[0m\u001b[0m\n\u001b[0;32m   3026\u001b[0m                 \u001b[0mindexer\u001b[0m \u001b[1;33m=\u001b[0m \u001b[1;33m[\u001b[0m\u001b[0mindexer\u001b[0m\u001b[1;33m]\u001b[0m\u001b[1;33m\u001b[0m\u001b[1;33m\u001b[0m\u001b[0m\n",
      "\u001b[1;32m~\\anaconda3\\envs\\project\\lib\\site-packages\\pandas\\core\\indexes\\base.py\u001b[0m in \u001b[0;36mget_loc\u001b[1;34m(self, key, method, tolerance)\u001b[0m\n\u001b[0;32m   3080\u001b[0m                 \u001b[1;32mreturn\u001b[0m \u001b[0mself\u001b[0m\u001b[1;33m.\u001b[0m\u001b[0m_engine\u001b[0m\u001b[1;33m.\u001b[0m\u001b[0mget_loc\u001b[0m\u001b[1;33m(\u001b[0m\u001b[0mcasted_key\u001b[0m\u001b[1;33m)\u001b[0m\u001b[1;33m\u001b[0m\u001b[1;33m\u001b[0m\u001b[0m\n\u001b[0;32m   3081\u001b[0m             \u001b[1;32mexcept\u001b[0m \u001b[0mKeyError\u001b[0m \u001b[1;32mas\u001b[0m \u001b[0merr\u001b[0m\u001b[1;33m:\u001b[0m\u001b[1;33m\u001b[0m\u001b[1;33m\u001b[0m\u001b[0m\n\u001b[1;32m-> 3082\u001b[1;33m                 \u001b[1;32mraise\u001b[0m \u001b[0mKeyError\u001b[0m\u001b[1;33m(\u001b[0m\u001b[0mkey\u001b[0m\u001b[1;33m)\u001b[0m \u001b[1;32mfrom\u001b[0m \u001b[0merr\u001b[0m\u001b[1;33m\u001b[0m\u001b[1;33m\u001b[0m\u001b[0m\n\u001b[0m\u001b[0;32m   3083\u001b[0m \u001b[1;33m\u001b[0m\u001b[0m\n\u001b[0;32m   3084\u001b[0m         \u001b[1;32mif\u001b[0m \u001b[0mtolerance\u001b[0m \u001b[1;32mis\u001b[0m \u001b[1;32mnot\u001b[0m \u001b[1;32mNone\u001b[0m\u001b[1;33m:\u001b[0m\u001b[1;33m\u001b[0m\u001b[1;33m\u001b[0m\u001b[0m\n",
      "\u001b[1;31mKeyError\u001b[0m: (0, 'trackable_value')"
     ]
    }
   ],
   "source": [
    "# If a row corresponds to a relevant condition, update the value of in the corresponding condition's column \n",
    "# to match the value in the trackable_value column\n",
    "\n",
    "#for i, row in modify_df.iterrows():\n",
    "#    if modify_df[i, 'trackable_value'] == '1' and modify_df[i, 'trackable_type'] == 'Condition' and modify_df[i, 'trackable_name'] in our_cond_list:\n",
    "#        cond = modify_df[i, 'trackable_name']\n",
    "#        modify_df.set_value(i, cond, '1')"
   ]
  },
  {
   "cell_type": "code",
   "execution_count": null,
   "id": "59fd2bcf",
   "metadata": {},
   "outputs": [],
   "source": []
  }
 ],
 "metadata": {
  "kernelspec": {
   "display_name": "Python 3",
   "language": "python",
   "name": "python3"
  },
  "language_info": {
   "codemirror_mode": {
    "name": "ipython",
    "version": 3
   },
   "file_extension": ".py",
   "mimetype": "text/x-python",
   "name": "python",
   "nbconvert_exporter": "python",
   "pygments_lexer": "ipython3",
   "version": "3.7.10"
  }
 },
 "nbformat": 4,
 "nbformat_minor": 5
}
